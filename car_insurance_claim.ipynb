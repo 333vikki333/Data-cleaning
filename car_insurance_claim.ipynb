{
 "cells": [
  {
   "cell_type": "code",
   "execution_count": 3,
   "id": "2583cf97-cf40-44b4-ae75-0e51e3b7ae96",
   "metadata": {},
   "outputs": [],
   "source": [
    "import pandas as pd\n",
    "import seaborn as sns\n",
    "import matplotlib.pyplot as plt\n",
    "import numpy as np"
   ]
  },
  {
   "cell_type": "code",
   "execution_count": 4,
   "id": "61ff846b-ee3c-472c-a29d-cece150a043e",
   "metadata": {},
   "outputs": [],
   "source": [
    "from sklearn.preprocessing import LabelEncoder\n",
    "labelencoder=LabelEncoder()"
   ]
  },
  {
   "cell_type": "code",
   "execution_count": 5,
   "id": "2ae9ff06-62dc-43e7-a2aa-6970e0770ecc",
   "metadata": {},
   "outputs": [],
   "source": [
    "df=pd.read_csv('car_insurance_claim.csv')"
   ]
  },
  {
   "cell_type": "code",
   "execution_count": 6,
   "id": "a98767ff-f491-439c-b9fa-5a379a7cb51b",
   "metadata": {},
   "outputs": [],
   "source": [
    "df['INCOME'] = df['INCOME'].str.replace('$', '').str.replace(',', '').astype(float)"
   ]
  },
  {
   "cell_type": "code",
   "execution_count": 7,
   "id": "3c90860a-7d37-4d42-8cad-587cb5f1b7e8",
   "metadata": {},
   "outputs": [
    {
     "name": "stderr",
     "output_type": "stream",
     "text": [
      "C:\\Users\\vikrant\\AppData\\Local\\Temp\\ipykernel_13852\\1442210547.py:1: UserWarning: Could not infer format, so each element will be parsed individually, falling back to `dateutil`. To ensure parsing is consistent and as-expected, please specify a format.\n",
      "  df['BIRTH'] = pd.to_datetime(df['BIRTH'])\n"
     ]
    }
   ],
   "source": [
    "df['BIRTH'] = pd.to_datetime(df['BIRTH'])\n",
    "df['birth_day'] = df['BIRTH'].dt.day\n",
    "df['birth_month'] = df['BIRTH'].dt.month\n",
    "df['birth_year'] = df['BIRTH'].dt.year"
   ]
  },
  {
   "cell_type": "code",
   "execution_count": 8,
   "id": "d4cbec92-8400-4c67-9ef3-2eb88c0475a6",
   "metadata": {},
   "outputs": [],
   "source": [
    "df.drop('BIRTH',axis=1,inplace=True)"
   ]
  },
  {
   "cell_type": "code",
   "execution_count": 9,
   "id": "2a0b1147-a68e-4071-b12e-a7c5d5089317",
   "metadata": {},
   "outputs": [],
   "source": [
    "df['HOME_VAL'] = df['HOME_VAL'].str.replace('$', '').str.replace(',', '').astype(float)"
   ]
  },
  {
   "cell_type": "code",
   "execution_count": 10,
   "id": "cbc56ce9-f1de-4075-9095-a02b1ac719c4",
   "metadata": {},
   "outputs": [],
   "source": [
    "df['MSTATUS'] = df['MSTATUS'].str.replace('z', '').str.replace('_', '')\n",
    "df['MSTATUS']=df['MSTATUS'].map({'No':1, 'Yes':2}).astype(int)"
   ]
  },
  {
   "cell_type": "code",
   "execution_count": 11,
   "id": "b123d250-7d86-4298-b1c2-65ee5db6601a",
   "metadata": {},
   "outputs": [],
   "source": [
    "df['PARENT1']=df['PARENT1'].map({'No':1, 'Yes':2}).astype(int)"
   ]
  },
  {
   "cell_type": "code",
   "execution_count": 12,
   "id": "505e16b3-b350-4423-9c07-635d84fedbae",
   "metadata": {},
   "outputs": [],
   "source": [
    "df['GENDER'] = df['GENDER'].str.replace('z', '').str.replace('_', '')\n",
    "df['GENDER']=df['GENDER'].map({'M':1, 'F':2}).astype(int)"
   ]
  },
  {
   "cell_type": "code",
   "execution_count": 13,
   "id": "2fa1b64d-1d21-469a-a24b-2cab3bbaa7ad",
   "metadata": {},
   "outputs": [],
   "source": [
    "df['EDUCATION'] = df['EDUCATION'].str.replace('z', '').str.replace('_', '').str.replace('<','')\n",
    "df['EDUCATION']=df['EDUCATION'].map({'PhD':1, 'High School':2, 'Bachelors':3, 'High School':4, 'Masters':5})"
   ]
  },
  {
   "cell_type": "code",
   "execution_count": 14,
   "id": "9bd129f6-e530-4139-ae12-7d490426c8b2",
   "metadata": {},
   "outputs": [],
   "source": [
    "df['OCCUPATION'] = df['OCCUPATION'].str.replace('z', '').str.replace('_', '')\n",
    "df['OCCUPATION']=df['OCCUPATION'].map({'Professional':1, 'Blue Collar':2, 'Manager':3, 'Clerical':4, 'Doctor':5,\n",
    "           'Lawyer':6, 'nan':0, 'Home Maker':7, 'Student':8})"
   ]
  },
  {
   "cell_type": "code",
   "execution_count": 15,
   "id": "a57a99f3-ffb4-40d4-955c-0791b86cd939",
   "metadata": {},
   "outputs": [],
   "source": [
    "df['OCCUPATION']=labelencoder.fit_transform(df['OCCUPATION'])"
   ]
  },
  {
   "cell_type": "code",
   "execution_count": 16,
   "id": "8d5a99ea-10ad-4914-ae48-57360cf010b0",
   "metadata": {},
   "outputs": [],
   "source": [
    "df['CAR_USE']=labelencoder.fit_transform(df['CAR_USE'])"
   ]
  },
  {
   "cell_type": "code",
   "execution_count": 17,
   "id": "fdafc405-9a00-45fc-9a12-430b2d6c0a98",
   "metadata": {},
   "outputs": [],
   "source": [
    "df['BLUEBOOK'] = df['BLUEBOOK'].str.replace('$', '').str.replace(',', '').astype(float)"
   ]
  },
  {
   "cell_type": "code",
   "execution_count": 18,
   "id": "5222322f-f219-4d24-9348-82871a9fdff9",
   "metadata": {},
   "outputs": [],
   "source": [
    "df['CAR_TYPE'] = df['CAR_TYPE'].str.replace('z', '').str.replace('_', '')\n",
    "df['CAR_TYPE']=labelencoder.fit_transform(df['CAR_TYPE'])"
   ]
  },
  {
   "cell_type": "code",
   "execution_count": 19,
   "id": "3542f9f5-227c-4575-993f-5f3e35f52033",
   "metadata": {},
   "outputs": [],
   "source": [
    "df['OLDCLAIM'] = df['OLDCLAIM'].str.replace('$', '').str.replace(',', '').astype(int)"
   ]
  },
  {
   "cell_type": "code",
   "execution_count": 20,
   "id": "f064cc02-4887-45a2-be5a-f4c1424c936c",
   "metadata": {},
   "outputs": [],
   "source": [
    "df['RED_CAR']=labelencoder.fit_transform(df['RED_CAR'])\n",
    "df['REVOKED']=labelencoder.fit_transform(df['REVOKED'])\n"
   ]
  },
  {
   "cell_type": "code",
   "execution_count": 21,
   "id": "9707c123-9518-41cf-bb1b-5fd75e885782",
   "metadata": {},
   "outputs": [],
   "source": [
    "df['CLM_AMT'] = df['CLM_AMT'].str.replace('$', '').str.replace(',', '').astype(int)"
   ]
  },
  {
   "cell_type": "code",
   "execution_count": 22,
   "id": "2453334e-e496-4b82-bf2d-6032e0356911",
   "metadata": {},
   "outputs": [
    {
     "data": {
      "text/plain": [
       "array(['Highly Urban/ Urban', 'z_Highly Rural/ Rural'], dtype=object)"
      ]
     },
     "execution_count": 22,
     "metadata": {},
     "output_type": "execute_result"
    }
   ],
   "source": [
    "df['URBANICITY'].unique()  "
   ]
  },
  {
   "cell_type": "code",
   "execution_count": 23,
   "id": "5cc5783b-cc81-4ede-a468-baf4c5def1a7",
   "metadata": {},
   "outputs": [],
   "source": [
    "df['URBANICITY'] = df['URBANICITY'].str.split('/').str[0]\n",
    "df['URBANICITY'] = df['URBANICITY'].str.replace('z', '').str.replace('_', '')\n",
    "df['URBANICITY']=df['URBANICITY'].map({'Highly Urban':1, 'HighHighly':2})\n",
    "df['URBANICITY'] = df['URBANICITY'].astype(float)"
   ]
  },
  {
   "cell_type": "code",
   "execution_count": 24,
   "id": "33fa82e1-d936-4111-82aa-3fa955cae188",
   "metadata": {},
   "outputs": [],
   "source": [
    "df['YOJ']=df['YOJ'].fillna(0)"
   ]
  },
  {
   "cell_type": "code",
   "execution_count": 25,
   "id": "1338d325-b08e-4190-8f30-0cf2d679d854",
   "metadata": {},
   "outputs": [],
   "source": [
    "df['YOJ']=df['YOJ'].fillna(0)"
   ]
  },
  {
   "cell_type": "code",
   "execution_count": 26,
   "id": "785c6b37-3e23-4ba4-b8d1-f5ff376ee77d",
   "metadata": {},
   "outputs": [],
   "source": [
    "df['HOME_VAL']=df['HOME_VAL'].fillna(0)"
   ]
  },
  {
   "cell_type": "code",
   "execution_count": 71,
   "id": "79d3f17d-9584-42ab-a7cd-240b578e9916",
   "metadata": {},
   "outputs": [],
   "source": [
    "df['URBANICITY']=df['URBANICITY'].fillna(0)"
   ]
  },
  {
   "cell_type": "code",
   "execution_count": 73,
   "id": "da70dc2a-a1b8-4ff1-8fc6-8c930e109d41",
   "metadata": {},
   "outputs": [],
   "source": [
    "mode=df['AGE'].mean()\n",
    "df['AGE'].fillna(mode, inplace=True)"
   ]
  },
  {
   "cell_type": "code",
   "execution_count": 75,
   "id": "55227ec3-f617-4b2c-ad9b-e27cb8ccf57d",
   "metadata": {},
   "outputs": [],
   "source": [
    " mean= df['CAR_AGE'].mean()\n",
    "df['CAR_AGE'].fillna(mean, inplace=True)"
   ]
  },
  {
   "cell_type": "code",
   "execution_count": 76,
   "id": "7e9922ef-efe5-4206-9b6e-4c2e1c89b83e",
   "metadata": {},
   "outputs": [
    {
     "data": {
      "text/plain": [
       "array([11., 10., 14.,  0., 12.,  7.,  5., 13.,  9., 17.,  8., 15., 16.,\n",
       "        6., 18., 23.,  4.,  3.,  2., 19.,  1.])"
      ]
     },
     "execution_count": 76,
     "metadata": {},
     "output_type": "execute_result"
    }
   ],
   "source": [
    "df['YOJ'].unique()"
   ]
  },
  {
   "cell_type": "code",
   "execution_count": null,
   "id": "3576b4e9-31bc-4020-9bc3-c058db569e81",
   "metadata": {},
   "outputs": [],
   "source": [
    "df.info()"
   ]
  },
  {
   "cell_type": "code",
   "execution_count": 78,
   "id": "d1b49e56-65cf-4983-8024-9afad7af016f",
   "metadata": {},
   "outputs": [
    {
     "data": {
      "text/plain": [
       "ID             0\n",
       "KIDSDRIV       0\n",
       "AGE            0\n",
       "HOMEKIDS       0\n",
       "YOJ            0\n",
       "INCOME         0\n",
       "PARENT1        0\n",
       "HOME_VAL       0\n",
       "MSTATUS        0\n",
       "GENDER         0\n",
       "EDUCATION      0\n",
       "OCCUPATION     0\n",
       "TRAVTIME       0\n",
       "CAR_USE        0\n",
       "BLUEBOOK       0\n",
       "TIF            0\n",
       "CAR_TYPE       0\n",
       "RED_CAR        0\n",
       "OLDCLAIM       0\n",
       "CLM_FREQ       0\n",
       "REVOKED        0\n",
       "MVR_PTS        0\n",
       "CLM_AMT        0\n",
       "CAR_AGE        0\n",
       "CLAIM_FLAG     0\n",
       "URBANICITY     0\n",
       "birth_day      0\n",
       "birth_month    0\n",
       "birth_year     0\n",
       "dtype: int64"
      ]
     },
     "execution_count": 78,
     "metadata": {},
     "output_type": "execute_result"
    }
   ],
   "source": [
    "df.isnull().sum()"
   ]
  },
  {
   "cell_type": "code",
   "execution_count": 79,
   "id": "358b5f4a-9bca-4d0f-a3e2-d227d4dd8fda",
   "metadata": {},
   "outputs": [
    {
     "data": {
      "text/html": [
       "<div>\n",
       "<style scoped>\n",
       "    .dataframe tbody tr th:only-of-type {\n",
       "        vertical-align: middle;\n",
       "    }\n",
       "\n",
       "    .dataframe tbody tr th {\n",
       "        vertical-align: top;\n",
       "    }\n",
       "\n",
       "    .dataframe thead th {\n",
       "        text-align: right;\n",
       "    }\n",
       "</style>\n",
       "<table border=\"1\" class=\"dataframe\">\n",
       "  <thead>\n",
       "    <tr style=\"text-align: right;\">\n",
       "      <th></th>\n",
       "      <th>ID</th>\n",
       "      <th>KIDSDRIV</th>\n",
       "      <th>AGE</th>\n",
       "      <th>HOMEKIDS</th>\n",
       "      <th>YOJ</th>\n",
       "      <th>INCOME</th>\n",
       "      <th>PARENT1</th>\n",
       "      <th>HOME_VAL</th>\n",
       "      <th>MSTATUS</th>\n",
       "      <th>GENDER</th>\n",
       "      <th>...</th>\n",
       "      <th>CLM_FREQ</th>\n",
       "      <th>REVOKED</th>\n",
       "      <th>MVR_PTS</th>\n",
       "      <th>CLM_AMT</th>\n",
       "      <th>CAR_AGE</th>\n",
       "      <th>CLAIM_FLAG</th>\n",
       "      <th>URBANICITY</th>\n",
       "      <th>birth_day</th>\n",
       "      <th>birth_month</th>\n",
       "      <th>birth_year</th>\n",
       "    </tr>\n",
       "  </thead>\n",
       "  <tbody>\n",
       "    <tr>\n",
       "      <th>0</th>\n",
       "      <td>63581743</td>\n",
       "      <td>0</td>\n",
       "      <td>60.0</td>\n",
       "      <td>0</td>\n",
       "      <td>11.0</td>\n",
       "      <td>67349.0</td>\n",
       "      <td>1</td>\n",
       "      <td>0.0</td>\n",
       "      <td>1</td>\n",
       "      <td>1</td>\n",
       "      <td>...</td>\n",
       "      <td>2</td>\n",
       "      <td>0</td>\n",
       "      <td>3</td>\n",
       "      <td>0</td>\n",
       "      <td>18.0</td>\n",
       "      <td>0</td>\n",
       "      <td>1.0</td>\n",
       "      <td>16</td>\n",
       "      <td>3</td>\n",
       "      <td>2039</td>\n",
       "    </tr>\n",
       "    <tr>\n",
       "      <th>1</th>\n",
       "      <td>132761049</td>\n",
       "      <td>0</td>\n",
       "      <td>43.0</td>\n",
       "      <td>0</td>\n",
       "      <td>11.0</td>\n",
       "      <td>91449.0</td>\n",
       "      <td>1</td>\n",
       "      <td>257252.0</td>\n",
       "      <td>1</td>\n",
       "      <td>1</td>\n",
       "      <td>...</td>\n",
       "      <td>0</td>\n",
       "      <td>0</td>\n",
       "      <td>0</td>\n",
       "      <td>0</td>\n",
       "      <td>1.0</td>\n",
       "      <td>0</td>\n",
       "      <td>1.0</td>\n",
       "      <td>21</td>\n",
       "      <td>1</td>\n",
       "      <td>2056</td>\n",
       "    </tr>\n",
       "    <tr>\n",
       "      <th>2</th>\n",
       "      <td>921317019</td>\n",
       "      <td>0</td>\n",
       "      <td>48.0</td>\n",
       "      <td>0</td>\n",
       "      <td>11.0</td>\n",
       "      <td>52881.0</td>\n",
       "      <td>1</td>\n",
       "      <td>0.0</td>\n",
       "      <td>1</td>\n",
       "      <td>1</td>\n",
       "      <td>...</td>\n",
       "      <td>0</td>\n",
       "      <td>0</td>\n",
       "      <td>2</td>\n",
       "      <td>0</td>\n",
       "      <td>10.0</td>\n",
       "      <td>0</td>\n",
       "      <td>1.0</td>\n",
       "      <td>18</td>\n",
       "      <td>11</td>\n",
       "      <td>2051</td>\n",
       "    </tr>\n",
       "    <tr>\n",
       "      <th>3</th>\n",
       "      <td>727598473</td>\n",
       "      <td>0</td>\n",
       "      <td>35.0</td>\n",
       "      <td>1</td>\n",
       "      <td>10.0</td>\n",
       "      <td>16039.0</td>\n",
       "      <td>1</td>\n",
       "      <td>124191.0</td>\n",
       "      <td>2</td>\n",
       "      <td>2</td>\n",
       "      <td>...</td>\n",
       "      <td>2</td>\n",
       "      <td>0</td>\n",
       "      <td>3</td>\n",
       "      <td>0</td>\n",
       "      <td>10.0</td>\n",
       "      <td>0</td>\n",
       "      <td>1.0</td>\n",
       "      <td>5</td>\n",
       "      <td>3</td>\n",
       "      <td>2064</td>\n",
       "    </tr>\n",
       "    <tr>\n",
       "      <th>4</th>\n",
       "      <td>450221861</td>\n",
       "      <td>0</td>\n",
       "      <td>51.0</td>\n",
       "      <td>0</td>\n",
       "      <td>14.0</td>\n",
       "      <td>0.0</td>\n",
       "      <td>1</td>\n",
       "      <td>306251.0</td>\n",
       "      <td>2</td>\n",
       "      <td>1</td>\n",
       "      <td>...</td>\n",
       "      <td>0</td>\n",
       "      <td>0</td>\n",
       "      <td>0</td>\n",
       "      <td>0</td>\n",
       "      <td>6.0</td>\n",
       "      <td>0</td>\n",
       "      <td>1.0</td>\n",
       "      <td>5</td>\n",
       "      <td>6</td>\n",
       "      <td>2048</td>\n",
       "    </tr>\n",
       "  </tbody>\n",
       "</table>\n",
       "<p>5 rows × 29 columns</p>\n",
       "</div>"
      ],
      "text/plain": [
       "          ID  KIDSDRIV   AGE  HOMEKIDS   YOJ   INCOME  PARENT1  HOME_VAL  \\\n",
       "0   63581743         0  60.0         0  11.0  67349.0        1       0.0   \n",
       "1  132761049         0  43.0         0  11.0  91449.0        1  257252.0   \n",
       "2  921317019         0  48.0         0  11.0  52881.0        1       0.0   \n",
       "3  727598473         0  35.0         1  10.0  16039.0        1  124191.0   \n",
       "4  450221861         0  51.0         0  14.0      0.0        1  306251.0   \n",
       "\n",
       "   MSTATUS  GENDER  ...  CLM_FREQ  REVOKED  MVR_PTS  CLM_AMT  CAR_AGE  \\\n",
       "0        1       1  ...         2        0        3        0     18.0   \n",
       "1        1       1  ...         0        0        0        0      1.0   \n",
       "2        1       1  ...         0        0        2        0     10.0   \n",
       "3        2       2  ...         2        0        3        0     10.0   \n",
       "4        2       1  ...         0        0        0        0      6.0   \n",
       "\n",
       "   CLAIM_FLAG  URBANICITY  birth_day  birth_month  birth_year  \n",
       "0           0         1.0         16            3        2039  \n",
       "1           0         1.0         21            1        2056  \n",
       "2           0         1.0         18           11        2051  \n",
       "3           0         1.0          5            3        2064  \n",
       "4           0         1.0          5            6        2048  \n",
       "\n",
       "[5 rows x 29 columns]"
      ]
     },
     "execution_count": 79,
     "metadata": {},
     "output_type": "execute_result"
    }
   ],
   "source": [
    "df.head(5)"
   ]
  },
  {
   "cell_type": "code",
   "execution_count": null,
   "id": "bd375ef6-3e76-4e48-95a1-1675b13d75c2",
   "metadata": {},
   "outputs": [],
   "source": []
  },
  {
   "cell_type": "code",
   "execution_count": null,
   "id": "b26113e7-1576-4225-b739-61aab0dddbb3",
   "metadata": {},
   "outputs": [],
   "source": []
  },
  {
   "cell_type": "code",
   "execution_count": null,
   "id": "c709bdc0-f26f-47eb-8ec8-0fb7a379cd54",
   "metadata": {},
   "outputs": [],
   "source": []
  },
  {
   "cell_type": "code",
   "execution_count": null,
   "id": "f74baee6-4ebe-4de6-b252-13fafc6505b0",
   "metadata": {},
   "outputs": [],
   "source": []
  },
  {
   "cell_type": "code",
   "execution_count": null,
   "id": "d7643bf2-9eeb-40c9-85f1-79dd44acbdae",
   "metadata": {},
   "outputs": [],
   "source": []
  },
  {
   "cell_type": "code",
   "execution_count": null,
   "id": "82b2d21f-b305-4b3b-94c2-eeca5c5df175",
   "metadata": {},
   "outputs": [],
   "source": []
  },
  {
   "cell_type": "code",
   "execution_count": null,
   "id": "c0593892-5011-43a0-8158-c78d9ba5a546",
   "metadata": {},
   "outputs": [],
   "source": []
  },
  {
   "cell_type": "code",
   "execution_count": null,
   "id": "adee8a88-e4d4-4abe-9239-2c888d0f8d80",
   "metadata": {},
   "outputs": [],
   "source": []
  }
 ],
 "metadata": {
  "kernelspec": {
   "display_name": "Python 3 (ipykernel)",
   "language": "python",
   "name": "python3"
  },
  "language_info": {
   "codemirror_mode": {
    "name": "ipython",
    "version": 3
   },
   "file_extension": ".py",
   "mimetype": "text/x-python",
   "name": "python",
   "nbconvert_exporter": "python",
   "pygments_lexer": "ipython3",
   "version": "3.11.7"
  }
 },
 "nbformat": 4,
 "nbformat_minor": 5
}
